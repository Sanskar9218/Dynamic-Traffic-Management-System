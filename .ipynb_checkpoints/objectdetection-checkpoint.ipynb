{
 "cells": [
  {
   "cell_type": "code",
   "execution_count": 1,
   "id": "ccbbca73",
   "metadata": {},
   "outputs": [],
   "source": [
    "import cv2\n",
    "from vehicle_detector import VehicleDetector\n",
    "import matplotlib.pyplot as plt"
   ]
  },
  {
   "cell_type": "code",
   "execution_count": 2,
   "id": "356d3baf",
   "metadata": {},
   "outputs": [],
   "source": [
    "vd = VehicleDetector()"
   ]
  },
  {
   "cell_type": "code",
   "execution_count": 39,
   "id": "041059a8",
   "metadata": {},
   "outputs": [
    {
     "name": "stdout",
     "output_type": "stream",
     "text": [
      "11\n",
      "11\n",
      "10\n",
      "10\n"
     ]
    },
    {
     "data": {
      "text/plain": [
       "-1"
      ]
     },
     "execution_count": 39,
     "metadata": {},
     "output_type": "execute_result"
    }
   ],
   "source": [
    "img = cv2.imread('img/trafficCars5.jpeg')\n",
    "vehicle_boxes = vd.detect_vehicles(img)\n",
    "vehicle_count = len(vehicle_boxes)\n",
    "for box in vehicle_boxes:\n",
    "        x, y, w, h = box\n",
    "        cv2.rectangle(img, (x, y), (x + w, y + h), (0, 255, 0), 2)\n",
    "\n",
    "        cv2.putText(img, \"Vehicles Detected: \" + str(vehicle_count), (20, 50), 0, 1, (0, 0, 255), 3)\n",
    "        \n",
    "print(vehicle_count)\n",
    "\n",
    "\n",
    "img2 = cv2.imread('img/trafficCars6.jpeg')\n",
    "vehicle_boxes2 = vd.detect_vehicles(img2)\n",
    "vehicle_count2 = len(vehicle_boxes)\n",
    "for box in vehicle_boxes2:\n",
    "        x, y, w, h = box\n",
    "        cv2.rectangle(img2, (x, y), (x + w, y + h), (0, 255, 0), 2)\n",
    "\n",
    "        cv2.putText(img2, \"Vehicles Detected: \" + str(vehicle_count2), (20, 50), 0, 1, (0, 0, 255), 3)\n",
    "        \n",
    "print(vehicle_count2)\n",
    "\n",
    "img3 = cv2.imread('img/trafficCars7.jpeg')\n",
    "vehicle_boxes3 = vd.detect_vehicles(img3)\n",
    "vehicle_count3 = len(vehicle_boxes3)\n",
    "for box in vehicle_boxes3:\n",
    "        x, y, w, h = box\n",
    "        cv2.rectangle(img3, (x, y), (x + w, y + h), (0, 255, 0), 2)\n",
    "\n",
    "        cv2.putText(img3, \"Vehicles Detected: \" + str(vehicle_count3), (20, 50), 0, 1, (0, 0, 255), 3)\n",
    "        \n",
    "print(vehicle_count3\n",
    "     )\n",
    "img4 = cv2.imread('img/trafficCars8.jpeg')\n",
    "vehicle_boxes4 = vd.detect_vehicles(img4)\n",
    "vehicle_count4 = len(vehicle_boxes4)\n",
    "for box in vehicle_boxes4:\n",
    "        x, y, w, h = box\n",
    "        cv2.rectangle(img4, (x, y), (x + w, y + h), (0, 255, 0), 2)\n",
    "\n",
    "        cv2.putText(img4, \"Vehicles Detected: \" + str(vehicle_count4), (20, 50), 0, 1, (0, 0, 255), 3)\n",
    "        \n",
    "print(vehicle_count4)\n",
    "\n",
    "cv2.imshow(\"Cars\", img2)\n",
    "cv2.waitKey(0)\n"
   ]
  },
  {
   "cell_type": "code",
   "execution_count": 40,
   "id": "9d8735ce",
   "metadata": {},
   "outputs": [
    {
     "name": "stdout",
     "output_type": "stream",
     "text": [
      "Input no of vehicles :  11 11 10 10\n",
      "[30, 30, 28.57142857142857, 28.57142857142857] 117.14285714285714\n"
     ]
    }
   ],
   "source": [
    "no_of_vehicles=[]\n",
    "no_of_vehicles.append(vehicle_count)\n",
    "no_of_vehicles.append(vehicle_count2)\n",
    "no_of_vehicles.append(vehicle_count3)\n",
    "no_of_vehicles.append(vehicle_count4)\n",
    "\n",
    "baseTimer = 120  # baseTimer = int(input(\"Enter the base timer value\"))\n",
    "timeLimits = [5, 30]  # timeLimits = list(map(int,input(\"Enter the time limits \").split()))\n",
    "\n",
    "print(\"Input no of vehicles : \", *no_of_vehicles)\n",
    "t = [(i / sum(no_of_vehicles)) * baseTimer if timeLimits[0] < (i / sum(no_of_vehicles)) * baseTimer < timeLimits[1] \n",
    "else min(timeLimits, key=lambda x: abs(x - (i / sum(no_of_vehicles)) * baseTimer)) for i in no_of_vehicles]\n",
    "\n",
    "print(t, sum(t))"
   ]
  },
  {
   "cell_type": "code",
   "execution_count": null,
   "id": "aa737d38",
   "metadata": {},
   "outputs": [],
   "source": []
  }
 ],
 "metadata": {
  "kernelspec": {
   "display_name": "Python 3 (ipykernel)",
   "language": "python",
   "name": "python3"
  },
  "language_info": {
   "codemirror_mode": {
    "name": "ipython",
    "version": 3
   },
   "file_extension": ".py",
   "mimetype": "text/x-python",
   "name": "python",
   "nbconvert_exporter": "python",
   "pygments_lexer": "ipython3",
   "version": "3.9.7"
  }
 },
 "nbformat": 4,
 "nbformat_minor": 5
}
